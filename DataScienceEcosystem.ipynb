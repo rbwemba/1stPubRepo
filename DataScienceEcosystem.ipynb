{
  "metadata": {
    "language_info": {
      "codemirror_mode": {
        "name": "python",
        "version": 3
      },
      "file_extension": ".py",
      "mimetype": "text/x-python",
      "name": "python",
      "nbconvert_exporter": "python",
      "pygments_lexer": "ipython3",
      "version": "3.8"
    },
    "kernelspec": {
      "name": "python",
      "display_name": "Python (Pyodide)",
      "language": "python"
    }
  },
  "nbformat_minor": 4,
  "nbformat": 4,
  "cells": [
    {
      "cell_type": "markdown",
      "source": "### Exercise 2:\n### Create markdown cell with title of the Notebook\n#\n# Data Science Tools and Ecosystem ",
      "metadata": {}
    },
    {
      "cell_type": "markdown",
      "source": "### Exercise 3:\n### Create a markdown cell for an introduction\n#\n## In this notebook, Data Science Tools and Ecosystem are summarized.\n",
      "metadata": {}
    },
    {
      "cell_type": "markdown",
      "source": "### Exercise 4:\n### Create a markdown cell to list data science languages\n#\n## Some of the popular languages that Data Scientists use are:\n1. Python\n1. R\n1. SQL\n1. Java\n5. Scala\n1. C++",
      "metadata": {}
    },
    {
      "cell_type": "markdown",
      "source": "### Exercise 5:\n### Create a markdown cell to list data science libraries\n#\n## Some of the commonly used libraries used by Data Scientists include:\n1. Pandas\n1. NumPy\n1. SciPy\n1. Matplotlib",
      "metadata": {}
    },
    {
      "cell_type": "markdown",
      "source": "### Exercise 6:\n### Create a markdown cell with a table of Data Science Tools\n#\n|Data Science Tools|\n|------|\n|Jupyter|\n|RStudio|\n|Spyder|",
      "metadata": {}
    },
    {
      "cell_type": "markdown",
      "source": "### Exercise 7: \n### Create a markdown cell introducing arithmetic expression examples\n#\n### Below are a few examples of evaluating arithmetic expressions in Python",
      "metadata": {}
    },
    {
      "cell_type": "markdown",
      "source": "### Exercise 8:\n### Create a code cell to multiply and add numbers\n#\n### This is a simple arithmetic expression to multiply then add integers",
      "metadata": {}
    },
    {
      "cell_type": "code",
      "source": "(3*4)+5",
      "metadata": {
        "trusted": true
      },
      "execution_count": 2,
      "outputs": [
        {
          "execution_count": 2,
          "output_type": "execute_result",
          "data": {
            "text/plain": "17"
          },
          "metadata": {}
        }
      ]
    },
    {
      "cell_type": "markdown",
      "source": "### Exercise 9:\n### Create a code cell to convert minutes to hours\n#\n### This will convert 200 minutes to hours by dividing by 60",
      "metadata": {}
    },
    {
      "cell_type": "code",
      "source": "200/60",
      "metadata": {
        "trusted": true
      },
      "execution_count": 5,
      "outputs": [
        {
          "execution_count": 5,
          "output_type": "execute_result",
          "data": {
            "text/plain": "3.3333333333333335"
          },
          "metadata": {}
        }
      ]
    },
    {
      "cell_type": "markdown",
      "source": "### Exercise 10:\n### Insert a markdown cell to list Ojectives\n#\n**Objectives**\n- List popular languages for Data Science\n- List popular libraries for Data Science\n- List a table of Data Science Tools\n- Using arithmetic expressions",
      "metadata": {}
    },
    {
      "cell_type": "markdown",
      "source": "### Exercise 11:\n### Create a markdown cell to indicate the Author's name\n#\n## Author\nRené-Joël BWEMBA",
      "metadata": {}
    },
    {
      "cell_type": "markdown",
      "source": "",
      "metadata": {}
    }
  ]
}